{
 "cells": [
  {
   "cell_type": "code",
   "execution_count": 10,
   "metadata": {},
   "outputs": [],
   "source": [
    "import pandas, torch, csv, random"
   ]
  },
  {
   "cell_type": "code",
   "execution_count": 14,
   "metadata": {},
   "outputs": [],
   "source": [
    "class HahaDataset(torch.utils.data.Dataset):\n",
    "    \n",
    "    def __init__(self,input_file, use_tokenizer,task):\n",
    "\n",
    "        # Check if file exists.\n",
    "        #     if not os.path.isfile(input_file):\n",
    "        #       # Raise error if path is invalid.\n",
    "        #       raise ValueError('Invalid `file` variable! Needs to be a file')\n",
    "\n",
    "        self.texts = []\n",
    "        self.labels = []\n",
    "\n",
    "\n",
    "        with open(input_file, 'r') as f:\n",
    "            reader = csv.reader(f)\n",
    "            for line in reader:\n",
    "                if task == \"is_humor\":\n",
    "                    self.texts.append(line[1])\n",
    "                    self.labels.append(line[2])\n",
    "                elif task == \"is_controversy\":\n",
    "                    if line[2] == '1': #only if humorous\n",
    "                        self.texts.append(line[1])\n",
    "                        self.labels.append(line[4])\n",
    "                elif task == \"test\":\n",
    "                    self.texts.append(line[1])\n",
    "                    self.labels.append(\"0\") #dummy value\n",
    "                elif task == \"humor_rating\":\n",
    "                    if line[2] == '1': #only if humorous\n",
    "                        self.texts.append(line[1])\n",
    "                        self.labels.append(line[3])\n",
    "                elif task == \"offense_rating\":\n",
    "                    self.texts.append(line[1])\n",
    "                    self.labels.append(line[5])\n",
    "\n",
    "        self.texts,self.labels = self.texts[1:],self.labels[1:] #Removing the heading\n",
    "\n",
    "\n",
    "        # Number of examples.\n",
    "        self.n_examples = len(self.texts)\n",
    "\n",
    "\n",
    "        return\n",
    "\n",
    "    def __len__(self):\n",
    "\n",
    "        return self.n_examples\n",
    "\n",
    "    def __getitem__(self, item):\n",
    "\n",
    "        return {'text':self.texts[item],'label':self.labels[item]}"
   ]
  },
  {
   "cell_type": "code",
   "execution_count": null,
   "metadata": {},
   "outputs": [],
   "source": []
  }
 ],
 "metadata": {
  "kernelspec": {
   "display_name": "Python 3",
   "language": "python",
   "name": "python3"
  },
  "language_info": {
   "codemirror_mode": {
    "name": "ipython",
    "version": 3
   },
   "file_extension": ".py",
   "mimetype": "text/x-python",
   "name": "python",
   "nbconvert_exporter": "python",
   "pygments_lexer": "ipython3",
   "version": "3.7.4"
  }
 },
 "nbformat": 4,
 "nbformat_minor": 2
}
