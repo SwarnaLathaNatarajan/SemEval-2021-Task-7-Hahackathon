{
 "cells": [
  {
   "cell_type": "code",
   "execution_count": 39,
   "metadata": {},
   "outputs": [],
   "source": [
    "import pandas as pd\n",
    "import pickle\n",
    "import numpy as np\n",
    "\n",
    "from keras.preprocessing.text import Tokenizer\n",
    "from keras.preprocessing.sequence import pad_sequences\n",
    "from keras.models import Sequential\n",
    "from keras.layers import Dropout, Dense, Embedding, LSTM, Conv1D, MaxPooling1D\n",
    "\n",
    "import matplotlib.pyplot as plt\n",
    "\n",
    "from sklearn.model_selection import train_test_split\n",
    "from sklearn import metrics\n",
    "from sklearn.metrics import matthews_corrcoef, confusion_matrix\n",
    "\n",
    "import logging\n",
    "logging.basicConfig(level=logging.INFO)"
   ]
  },
  {
   "cell_type": "code",
   "execution_count": 7,
   "metadata": {},
   "outputs": [
    {
     "data": {
      "text/html": [
       "<div>\n",
       "<style scoped>\n",
       "    .dataframe tbody tr th:only-of-type {\n",
       "        vertical-align: middle;\n",
       "    }\n",
       "\n",
       "    .dataframe tbody tr th {\n",
       "        vertical-align: top;\n",
       "    }\n",
       "\n",
       "    .dataframe thead th {\n",
       "        text-align: right;\n",
       "    }\n",
       "</style>\n",
       "<table border=\"1\" class=\"dataframe\">\n",
       "  <thead>\n",
       "    <tr style=\"text-align: right;\">\n",
       "      <th></th>\n",
       "      <th>Unnamed: 0</th>\n",
       "      <th>id</th>\n",
       "      <th>text</th>\n",
       "      <th>is_humor</th>\n",
       "      <th>humor_rating</th>\n",
       "      <th>humor_controversy</th>\n",
       "      <th>offense_rating</th>\n",
       "    </tr>\n",
       "  </thead>\n",
       "  <tbody>\n",
       "    <tr>\n",
       "      <th>0</th>\n",
       "      <td>0</td>\n",
       "      <td>1</td>\n",
       "      <td>ten best stat nobody ev com clos elev walk roo...</td>\n",
       "      <td>1</td>\n",
       "      <td>2.42</td>\n",
       "      <td>1.0</td>\n",
       "      <td>0.2</td>\n",
       "    </tr>\n",
       "    <tr>\n",
       "      <th>1</th>\n",
       "      <td>1</td>\n",
       "      <td>2</td>\n",
       "      <td>man insert advert class wif want next day rece...</td>\n",
       "      <td>1</td>\n",
       "      <td>2.50</td>\n",
       "      <td>1.0</td>\n",
       "      <td>1.1</td>\n",
       "    </tr>\n",
       "    <tr>\n",
       "      <th>2</th>\n",
       "      <td>2</td>\n",
       "      <td>3</td>\n",
       "      <td>many men tak op beer non op tim bring couch</td>\n",
       "      <td>1</td>\n",
       "      <td>1.95</td>\n",
       "      <td>0.0</td>\n",
       "      <td>2.4</td>\n",
       "    </tr>\n",
       "    <tr>\n",
       "      <th>3</th>\n",
       "      <td>3</td>\n",
       "      <td>4</td>\n",
       "      <td>tell mom hit 1200 twit follow point broth own ...</td>\n",
       "      <td>1</td>\n",
       "      <td>2.11</td>\n",
       "      <td>1.0</td>\n",
       "      <td>0.0</td>\n",
       "    </tr>\n",
       "    <tr>\n",
       "      <th>4</th>\n",
       "      <td>4</td>\n",
       "      <td>5</td>\n",
       "      <td>ros dead lov fak wed bas fun cak</td>\n",
       "      <td>1</td>\n",
       "      <td>2.78</td>\n",
       "      <td>0.0</td>\n",
       "      <td>0.1</td>\n",
       "    </tr>\n",
       "  </tbody>\n",
       "</table>\n",
       "</div>"
      ],
      "text/plain": [
       "   Unnamed: 0  id                                               text  \\\n",
       "0           0   1  ten best stat nobody ev com clos elev walk roo...   \n",
       "1           1   2  man insert advert class wif want next day rece...   \n",
       "2           2   3        many men tak op beer non op tim bring couch   \n",
       "3           3   4  tell mom hit 1200 twit follow point broth own ...   \n",
       "4           4   5                   ros dead lov fak wed bas fun cak   \n",
       "\n",
       "   is_humor  humor_rating  humor_controversy  offense_rating  \n",
       "0         1          2.42                1.0             0.2  \n",
       "1         1          2.50                1.0             1.1  \n",
       "2         1          1.95                0.0             2.4  \n",
       "3         1          2.11                1.0             0.0  \n",
       "4         1          2.78                0.0             0.1  "
      ]
     },
     "execution_count": 7,
     "metadata": {},
     "output_type": "execute_result"
    }
   ],
   "source": [
    "df = pd.read_csv(\"./../Data/preprocessed_train_data.csv\")\n",
    "df.head()"
   ]
  },
  {
   "cell_type": "code",
   "execution_count": 12,
   "metadata": {},
   "outputs": [],
   "source": [
    "def prepare_model_input(X_train, X_test,MAX_NB_WORDS=75000,MAX_SEQUENCE_LENGTH=500):\n",
    "    np.random.seed(7)\n",
    "    text = np.concatenate((X_train, X_test), axis=0)\n",
    "    text = np.array(text)\n",
    "    tokenizer = Tokenizer(num_words=MAX_NB_WORDS)\n",
    "    tokenizer.fit_on_texts(text)\n",
    "    pickle.dump(tokenizer, open('text_tokenizer.pkl', 'wb'))\n",
    "    sequences = tokenizer.texts_to_sequences(text)\n",
    "    word_index = tokenizer.word_index\n",
    "    text = pad_sequences(sequences, maxlen=MAX_SEQUENCE_LENGTH)\n",
    "    print('Found %s unique tokens.' % len(word_index))\n",
    "    indices = np.arange(text.shape[0])\n",
    "    # np.random.shuffle(indices)\n",
    "    text = text[indices]\n",
    "    print(text.shape)\n",
    "    X_train_Glove = text[0:len(X_train), ]\n",
    "    X_test_Glove = text[len(X_train):, ]\n",
    "    embeddings_dict = {}\n",
    "    f = open(\"./../Data/glove.6B.50d.txt\", encoding=\"utf8\")\n",
    "    for line in f:\n",
    "        values = line.split()\n",
    "        word = values[0]\n",
    "        try:\n",
    "            coefs = np.asarray(values[1:], dtype='float32')\n",
    "        except:\n",
    "            pass\n",
    "        embeddings_dict[word] = coefs\n",
    "    f.close()\n",
    "    print('Total %s word vectors.' % len(embeddings_dict))\n",
    "    return (X_train_Glove, X_test_Glove, word_index, embeddings_dict)"
   ]
  },
  {
   "cell_type": "code",
   "execution_count": 13,
   "metadata": {},
   "outputs": [
    {
     "name": "stdout",
     "output_type": "stream",
     "text": [
      "Found 51 unique tokens.\n",
      "(4, 20)\n",
      "Total 400000 word vectors.\n",
      "\n",
      " X_train_Glove_s \n",
      "  [[ 0  0  0  0  0  0  0  0  8  9  5 10 11  2  6  3 12  4 13 14]\n",
      " [17 18 19  1 20 21 22 23 24  3 25 26  6  1 27 28 29 30 31 32]]\n",
      "\n",
      " X_test_Glove_s \n",
      "  [[ 0  0  0  0  0  0  0  0  0  7 33  1 34  4 35 36  2 37 38 39]\n",
      " [ 0  0  0  7 40  1 41  4 42 43 44 45 46 47 48 49  3  2 50 51]]\n",
      "\n",
      " Word index of the word testing is :  38\n",
      "\n",
      " Embedding for thw word want \n",
      " \n",
      " [ 0.13627  -0.054478  0.3703   -0.41574   0.60568  -0.42729  -0.50151\n",
      "  0.35923  -0.49154   0.21827  -0.15193   0.52536  -0.24206   0.023875\n",
      "  0.8225    1.089     0.98825  -0.17803   0.77806  -1.0647   -0.28742\n",
      "  0.50458   0.21612   0.65681   0.34295  -2.1084   -0.82557  -0.31966\n",
      "  0.87567  -1.0679    3.3802    1.2084   -1.272    -0.15921  -0.25237\n",
      " -0.2696   -0.18756  -0.35523   0.084172 -0.56539  -0.24081   0.15926\n",
      "  0.3287    0.54591   0.29897   0.18948  -0.57113   0.17399  -0.19338\n",
      "  0.51921 ]\n"
     ]
    }
   ],
   "source": [
    "## Check function\n",
    "x_train_sample = [\"Lorem Ipsum is simply dummy text of the printing and typesetting industry\", \"It is a long established fact that a reader will be distracted by the readable content of a page when looking at its layout\"]\n",
    "x_test_sample = [\"I’m creating a macro and need some text for testing purposes\", \"I’m designing a document and don’t want to get bogged down in what the text actually says\"]\n",
    "X_train_Glove_s, X_test_Glove_s, word_index_s, embeddings_dict_s = prepare_model_input(x_train_sample, x_test_sample, 100, 20)\n",
    "print(\"\\n X_train_Glove_s \\n \", X_train_Glove_s)\n",
    "print(\"\\n X_test_Glove_s \\n \", X_test_Glove_s)\n",
    "print(\"\\n Word index of the word testing is : \", word_index_s[\"testing\"])\n",
    "print(\"\\n Embedding for the word want \\n \\n\", embeddings_dict_s[\"want\"])"
   ]
  },
  {
   "cell_type": "code",
   "execution_count": 29,
   "metadata": {},
   "outputs": [],
   "source": [
    "def build_cnn(word_index, embeddings_dict, nclasses,  MAX_SEQUENCE_LENGTH=500, EMBEDDING_DIM=50, dropout=0.5, hidden_layer = 3, lstm_node = 32):\n",
    "    # Make the embedding matrix using the embedding_dict\n",
    "    embedding_matrix = np.random.random((len(word_index) + 1, EMBEDDING_DIM))\n",
    "    for word, i in word_index.items():\n",
    "        embedding_vector = embeddings_dict.get(word)\n",
    "        if embedding_vector is not None:\n",
    "            # words not found in embedding index will be all-zeros.\n",
    "            if len(embedding_matrix[i]) != len(embedding_vector):\n",
    "                print(\"could not broadcast input array from shape\", str(len(embedding_matrix[i])),\n",
    "                      \"into shape\", str(len(embedding_vector)), \" Please make sure your\"\n",
    "                                                                \" EMBEDDING_DIM is equal to embedding_vector file ,GloVe,\")\n",
    "                exit(1)\n",
    "            embedding_matrix[i] = embedding_vector\n",
    "            \n",
    "    # create model\n",
    "    model_glove = Sequential()\n",
    "    # Add embedding layer\n",
    "    model_glove.add(Embedding(len(word_index) + 1,\n",
    "                                EMBEDDING_DIM,\n",
    "                                weights=[embedding_matrix],\n",
    "                                input_length=MAX_SEQUENCE_LENGTH,\n",
    "                                trainable=True))    \n",
    "    model_glove.add(Dropout(dropout))\n",
    "    model_glove.add(Conv1D(64, 5, activation='relu'))\n",
    "    model_glove.add(MaxPooling1D(pool_size=4))\n",
    "    model_glove.add(LSTM(100))\n",
    "    model_glove.add(Dense(1, activation='sigmoid'))\n",
    "    model_glove.compile(loss='binary_crossentropy', optimizer='adam', metrics=['accuracy'])\n",
    "    return model_glove\n"
   ]
  },
  {
   "cell_type": "code",
   "execution_count": 30,
   "metadata": {
    "scrolled": true
   },
   "outputs": [
    {
     "name": "stdout",
     "output_type": "stream",
     "text": [
      "Preparing model input ...\n",
      "Found 9136 unique tokens.\n",
      "(8000, 500)\n",
      "Total 400000 word vectors.\n",
      "Done!\n",
      "Building Model!\n",
      "Model: \"sequential_6\"\n",
      "_________________________________________________________________\n",
      "Layer (type)                 Output Shape              Param #   \n",
      "=================================================================\n",
      "embedding_5 (Embedding)      (None, 500, 50)           456850    \n",
      "_________________________________________________________________\n",
      "dropout_5 (Dropout)          (None, 500, 50)           0         \n",
      "_________________________________________________________________\n",
      "conv1d_4 (Conv1D)            (None, 496, 64)           16064     \n",
      "_________________________________________________________________\n",
      "max_pooling1d_3 (MaxPooling1 (None, 124, 64)           0         \n",
      "_________________________________________________________________\n",
      "lstm_3 (LSTM)                (None, 100)               66000     \n",
      "_________________________________________________________________\n",
      "dense_3 (Dense)              (None, 1)                 101       \n",
      "=================================================================\n",
      "Total params: 539,015\n",
      "Trainable params: 539,015\n",
      "Non-trainable params: 0\n",
      "_________________________________________________________________\n"
     ]
    }
   ],
   "source": [
    "X = df.text.astype(str)\n",
    "y = df.is_humor.astype(str)\n",
    "X_train, X_test, y_train, y_test = train_test_split(X, y, test_size = 0.2)\n",
    "print(\"Preparing model input ...\")\n",
    "X_train_Glove, X_test_Glove, word_index, embeddings_dict = prepare_model_input(X_train,X_test)\n",
    "print(\"Done!\")\n",
    "print(\"Building Model!\")\n",
    "model = build_cnn(word_index, embeddings_dict, 2)\n",
    "model.summary()"
   ]
  },
  {
   "cell_type": "code",
   "execution_count": 31,
   "metadata": {},
   "outputs": [],
   "source": [
    "def get_eval_report(labels, preds):\n",
    "    mcc = matthews_corrcoef(labels, preds)\n",
    "    tn, fp, fn, tp = confusion_matrix(labels, preds).ravel()\n",
    "    precision = (tp)/(tp+fp)\n",
    "    recall = (tp)/(tp+fn)\n",
    "    f1 = (2*(precision*recall))/(precision+recall)\n",
    "    return {\n",
    "        \"mcc\": mcc,\n",
    "        \"true positive\": tp,\n",
    "        \"true negative\": tn,\n",
    "        \"false positive\": fp,\n",
    "        \"false negative\": fn,\n",
    "        \"pricision\" : precision,\n",
    "        \"recall\" : recall,\n",
    "        \"F1\" : f1,\n",
    "        \"accuracy\": (tp+tn)/(tp+tn+fp+fn)\n",
    "    }\n",
    "def compute_metrics(labels, preds):\n",
    "    assert len(preds) == len(labels)\n",
    "    return get_eval_report(labels, preds)\n",
    "\n",
    "def plot_graphs(history, string):\n",
    "    plt.plot(history.history[string])\n",
    "    plt.plot(history.history['val_'+string], '')\n",
    "    plt.xlabel(\"Epochs\")\n",
    "    plt.ylabel(string)\n",
    "    plt.legend([string, 'val_'+string])\n",
    "    plt.show()"
   ]
  },
  {
   "cell_type": "code",
   "execution_count": 32,
   "metadata": {},
   "outputs": [
    {
     "name": "stdout",
     "output_type": "stream",
     "text": [
      "WARNING:tensorflow:From /opt/anaconda3/lib/python3.7/site-packages/keras/backend/tensorflow_backend.py:422: The name tf.global_variables is deprecated. Please use tf.compat.v1.global_variables instead.\n",
      "\n",
      "Train on 6400 samples, validate on 1600 samples\n",
      "Epoch 1/5\n",
      "6400/6400 [==============================] - 12s 2ms/step - loss: 0.6604 - accuracy: 0.6073 - val_loss: 0.6346 - val_accuracy: 0.6263\n",
      "Epoch 2/5\n",
      "6400/6400 [==============================] - 11s 2ms/step - loss: 0.6009 - accuracy: 0.6758 - val_loss: 0.5597 - val_accuracy: 0.7063\n",
      "Epoch 3/5\n",
      "6400/6400 [==============================] - 11s 2ms/step - loss: 0.5417 - accuracy: 0.7237 - val_loss: 0.5296 - val_accuracy: 0.7281\n",
      "Epoch 4/5\n",
      "6400/6400 [==============================] - 11s 2ms/step - loss: 0.4925 - accuracy: 0.7717 - val_loss: 0.4663 - val_accuracy: 0.7894\n",
      "Epoch 5/5\n",
      "6400/6400 [==============================] - 11s 2ms/step - loss: 0.4571 - accuracy: 0.7841 - val_loss: 0.4554 - val_accuracy: 0.7937\n"
     ]
    }
   ],
   "source": [
    "history = model.fit(X_train_Glove, y_train,\n",
    "                           validation_data=(X_test_Glove,y_test),\n",
    "                           epochs=5,\n",
    "                           batch_size=128,\n",
    "                           verbose=1)"
   ]
  },
  {
   "cell_type": "code",
   "execution_count": 35,
   "metadata": {},
   "outputs": [
    {
     "data": {
      "image/png": "[encoded data removed]",
      "text/plain": [
       "<Figure size 432x288 with 1 Axes>"
      ]
     },
     "metadata": {
      "needs_background": "light"
     },
     "output_type": "display_data"
    },
    {
     "data": {
      "image/png": "[encoded data removed]",
      "text/plain": [
       "<Figure size 432x288 with 1 Axes>"
      ]
     },
     "metadata": {
      "needs_background": "light"
     },
     "output_type": "display_data"
    }
   ],
   "source": [
    "plot_graphs(history, 'accuracy')\n",
    "plot_graphs(history, 'loss')"
   ]
  },
  {
   "cell_type": "code",
   "execution_count": 42,
   "metadata": {},
   "outputs": [
    {
     "name": "stdout",
     "output_type": "stream",
     "text": [
      "\n",
      " Evaluating Model ... \n",
      "\n"
     ]
    },
    {
     "name": "stderr",
     "output_type": "stream",
     "text": [
      "INFO:logger:  mcc = 0.5564582911638106\n",
      "INFO:logger:  true positive = 912\n",
      "INFO:logger:  true negative = 358\n",
      "INFO:logger:  false positive = 256\n",
      "INFO:logger:  false negative = 74\n",
      "INFO:logger:  pricision = 0.7808219178082192\n",
      "INFO:logger:  recall = 0.9249492900608519\n",
      "INFO:logger:  F1 = 0.8467966573816155\n",
      "INFO:logger:  accuracy = 0.79375\n"
     ]
    },
    {
     "name": "stdout",
     "output_type": "stream",
     "text": [
      "              precision    recall  f1-score   support\n",
      "\n",
      "           0       0.83      0.58      0.68       614\n",
      "           1       0.78      0.92      0.85       986\n",
      "\n",
      "    accuracy                           0.79      1600\n",
      "   macro avg       0.80      0.75      0.77      1600\n",
      "weighted avg       0.80      0.79      0.78      1600\n",
      "\n",
      "\n",
      "\n"
     ]
    }
   ],
   "source": [
    "print(\"\\n Evaluating Model ... \\n\")\n",
    "predicted = model.predict_classes(X_test_Glove)\n",
    "print(metrics.classification_report(y_test.astype(str), predicted.astype(str)))\n",
    "print(\"\\n\")\n",
    "logger = logging.getLogger(\"logger\")\n",
    "result = compute_metrics(y_test.astype(str), predicted.astype(str))\n",
    "for key in (result.keys()):\n",
    "    logger.info(\"  %s = %s\", key, str(result[key]))"
   ]
  },
  {
   "cell_type": "code",
   "execution_count": null,
   "metadata": {},
   "outputs": [],
   "source": []
  }
 ],
 "metadata": {
  "kernelspec": {
   "display_name": "Python 3",
   "language": "python",
   "name": "python3"
  },
  "language_info": {
   "codemirror_mode": {
    "name": "ipython",
    "version": 3
   },
   "file_extension": ".py",
   "mimetype": "text/x-python",
   "name": "python",
   "nbconvert_exporter": "python",
   "pygments_lexer": "ipython3",
   "version": "3.7.4"
  }
 },
 "nbformat": 4,
 "nbformat_minor": 2
}
